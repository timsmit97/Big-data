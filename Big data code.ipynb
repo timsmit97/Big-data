{
 "cells": [
  {
   "cell_type": "code",
   "execution_count": 50,
   "metadata": {},
   "outputs": [],
   "source": [
    "import pandas as pd\n",
    "import os\n",
    "import numpy as np\n",
    "os.chdir(\"C:\\\\Users\\\\tim_s\\\\OneDrive\\\\Documenten\")"
   ]
  },
  {
   "cell_type": "markdown",
   "metadata": {},
   "source": [
    "## Importing data "
   ]
  },
  {
   "cell_type": "code",
   "execution_count": 91,
   "metadata": {},
   "outputs": [],
   "source": [
    "table=pd.read_excel(\"Big data table functionalities.xlsx\")\n",
    "table=table.set_index(\"Unnamed: 0\")\n",
    "del table.index.name\n",
    "libraries=table.index\n",
    "for i in table.columns:\n",
    "    table.loc['Score',i]=table[i].sum()/4"
   ]
  },
  {
   "cell_type": "markdown",
   "metadata": {},
   "source": [
    "## Calculator function to create a ranking for 1 parameter configuration"
   ]
  },
  {
   "cell_type": "code",
   "execution_count": 92,
   "metadata": {},
   "outputs": [],
   "source": [
    "def calculator(num_features,weight_t,weight_u): \n",
    "    columns=['# top','# rest','Compute t','Compute u', 'weight t', 'weight u', 'score', 'rank']\n",
    "    data = np.array([np.arange(4)]*8).T\n",
    "    end_table= pd.DataFrame(data, index=libraries, columns=columns)\n",
    "    \n",
    "    top_table=table[table.columns[table.ix['Score'].argsort()[::-1][:num_features]]]\n",
    "    bottom_table=table[table.columns[table.ix['Score'].argsort()[::-1][num_features:]]]\n",
    "    bottom_table_2=bottom_table.transpose()\n",
    "    \n",
    "    for i in top_table.index:\n",
    "        if i != 'Score':\n",
    "            end_table.loc[i,'# top']=top_table.loc[i].sum()\n",
    "            end_table.loc[i,'# rest']=bottom_table.loc[i].sum()\n",
    "            end_table.loc[i,'Compute t']=end_table.loc[i,'# top']/num_features\n",
    "            end_table.loc[i,'Compute u']=bottom_table_2[bottom_table_2[i]>0]['Score'].sum()/len(bottom_table.columns)\n",
    "    end_table['weight t']=weight_t\n",
    "    end_table['weight u']=weight_u\n",
    "    end_table['score']=(end_table['Compute t']*end_table['weight t'])+(end_table['Compute u']*end_table['weight u'])\n",
    "    end_table['rank']=ss.rankdata([-1 * i for i in end_table['score']]).astype(int)\n",
    "    return end_table"
   ]
  },
  {
   "cell_type": "markdown",
   "metadata": {},
   "source": [
    "## Function to create table with rankings of all parameter configurations"
   ]
  },
  {
   "cell_type": "code",
   "execution_count": 134,
   "metadata": {},
   "outputs": [],
   "source": [
    "def create_final_table():\n",
    "    idx = pd.MultiIndex.from_product([[5, 6, 7,8,9,10],['Email', 'mail-parser', 'Pyzmail','Flanker']],names=['Num top features', 'Library'])\n",
    "    col = [0.5,0.6,0.7,0.8, 0.9]\n",
    "    df = pd.DataFrame(0, idx, col)\n",
    "    for i in list(df.index.levels)[0]:\n",
    "        for j in df.columns:  \n",
    "            temp=calculator(i,j,1-j)\n",
    "            df.loc[i,j]=list(temp['rank'])\n",
    "    return df"
   ]
  }
 ],
 "metadata": {
  "kernelspec": {
   "display_name": "Python 3",
   "language": "python",
   "name": "python3"
  },
  "language_info": {
   "codemirror_mode": {
    "name": "ipython",
    "version": 3
   },
   "file_extension": ".py",
   "mimetype": "text/x-python",
   "name": "python",
   "nbconvert_exporter": "python",
   "pygments_lexer": "ipython3",
   "version": "3.7.3"
  }
 },
 "nbformat": 4,
 "nbformat_minor": 2
}
